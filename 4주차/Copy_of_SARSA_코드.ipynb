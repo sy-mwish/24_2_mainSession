{
  "nbformat": 4,
  "nbformat_minor": 0,
  "metadata": {
    "colab": {
      "provenance": []
    },
    "kernelspec": {
      "name": "python3",
      "display_name": "Python 3"
    },
    "language_info": {
      "name": "python"
    }
  },
  "cells": [
    {
      "cell_type": "markdown",
      "source": [
        "# Import : by GitHub"
      ],
      "metadata": {
        "id": "s7yodASCqQnN"
      }
    },
    {
      "cell_type": "markdown",
      "source": [
        "You can try this code in Colab by this method.  "
      ],
      "metadata": {
        "id": "sNKnwgyLsdk7"
      }
    },
    {
      "cell_type": "code",
      "source": [
        "!git clone https://github.com/KanghwaSisters/24_2_mainSession.git"
      ],
      "metadata": {
        "colab": {
          "base_uri": "https://localhost:8080/"
        },
        "id": "mZkIAl9RqbgA",
        "outputId": "daf75843-ef7d-4952-ee84-025fb61d55c5"
      },
      "execution_count": 68,
      "outputs": [
        {
          "output_type": "stream",
          "name": "stdout",
          "text": [
            "fatal: destination path '24_2_mainSession' already exists and is not an empty directory.\n"
          ]
        }
      ]
    },
    {
      "cell_type": "code",
      "source": [
        "import os\n",
        "os.chdir('/content/24_2_mainSession/4주차/env')"
      ],
      "metadata": {
        "id": "p9gcnuUSr6be"
      },
      "execution_count": 69,
      "outputs": []
    },
    {
      "cell_type": "code",
      "source": [
        "! python GridWorldEnvironment.py"
      ],
      "metadata": {
        "id": "yBP_YdvWsE3x"
      },
      "execution_count": 70,
      "outputs": []
    },
    {
      "cell_type": "code",
      "source": [
        "from GridWorldEnvironment import GridWorldEnvironment"
      ],
      "metadata": {
        "id": "x3lvy6gWsE3x"
      },
      "execution_count": 71,
      "outputs": []
    },
    {
      "cell_type": "code",
      "source": [
        "env = GridWorldEnvironment(start_point=(0,0),\n",
        "                           end_point=(4,4),\n",
        "                           gridworld_size=(5,5))"
      ],
      "metadata": {
        "id": "DNnwj-jO23E4"
      },
      "execution_count": 72,
      "outputs": []
    },
    {
      "cell_type": "markdown",
      "source": [
        "# SARSA Class"
      ],
      "metadata": {
        "id": "Gvc0Jr9m6xZ3"
      }
    },
    {
      "cell_type": "code",
      "source": [
        "import numpy as np\n",
        "import random\n",
        "from collections import defaultdict\n",
        "import matplotlib.pyplot as plt\n",
        "\n",
        "class SARSAgent:\n",
        "    def __init__(self, actions):\n",
        "        self.actions = actions\n",
        "        self.step_size = 0.01 # 스텝사이즈 고정\n",
        "        self.discount_factor = 0.9\n",
        "        self.epsilon = 0.1 # 입실론-탐욕 정책\n",
        "        self.q_table = defaultdict(lambda: [0.0, 0.0, 0.0, 0.0]) # 큐함수 테이블 생성 및 기본값 설, dictionary 자료형?\n",
        "\n",
        "    # <s, a, r, s', a'>를 통해 큐함수 업데이트\n",
        "    def learn(self, state, action, reward, next_state, next_action):\n",
        "        state, next_state = tuple(state), tuple(next_state)\n",
        "        current_q = self.q_table[state][action]\n",
        "        next_state_q = self.q_table[next_state][next_action]\n",
        "        td = reward + self.discount_factor * next_state_q - current_q # (r + gamma * q' - q) 시간차 에러?\n",
        "        new_q = current_q + self.step_size * td\n",
        "        self.q_table[state][action] = new_q\n",
        "\n",
        "    # 입시론-탐욕 정책에 따라 행동 반환\n",
        "    def get_action(self, state):\n",
        "        if np.random.rand() < self.epsilon: # 다른 방법은 없을까?\n",
        "            # 무작위 행동 반환\n",
        "            action = np.random.choice(range(len(self.actions))) # 행동의 정수 인덱스 반환\n",
        "        else:\n",
        "            state = tuple(state)\n",
        "            # tuple으로 바꾸는 이유는? -> 이 환경에서는 state가 list이기 때문에 dictionary의 key 값으로 사용하기 위\n",
        "            q_list = self.q_table[state]\n",
        "            action = arg_max(q_list) # 밑에서 함수 정의\n",
        "        return action\n",
        "\n",
        "# 큐함수에 따라 최적 행동 반환\n",
        "def arg_max(q_list):\n",
        "    max_idx_list = np.argwhere(q_list == np.amax(q_list))\n",
        "    max_idx_list = max_idx_list.flatten().tolist()\n",
        "    return random.choice(max_idx_list)\n"
      ],
      "metadata": {
        "id": "hLYRJG0y6ypp"
      },
      "execution_count": 73,
      "outputs": []
    },
    {
      "cell_type": "markdown",
      "source": [
        "# Main"
      ],
      "metadata": {
        "id": "7jW6ivs16zHO"
      }
    },
    {
      "cell_type": "markdown",
      "source": [
        "- **SARSA**를 이용해 그리드 월드 학습시키기  \n",
        "- 학습 지표 시각화"
      ],
      "metadata": {
        "id": "Kpj3a2xf7Pkz"
      }
    },
    {
      "cell_type": "code",
      "source": [
        "if __name__ == \"__main__\":\n",
        "    agent = SARSAgent(actions=env.action_space)\n",
        "\n",
        "    num_episodes = 1000\n",
        "    steps_per_episode = []\n",
        "\n",
        "    for episode in range(num_episodes):\n",
        "        state = env.reset()\n",
        "        # 1. 현재 상태에서 입실론-탐욕 정책에 따라 행동\n",
        "        action = agent.get_action(state) # 입실론-탐욕 정책에 따라 행동\n",
        "\n",
        "        step_count = 0\n",
        "\n",
        "        while True:\n",
        "            #env.render()\n",
        "\n",
        "            # 2. 환경으로부터 다음 상태, 보상, 종료 여부를 받음\n",
        "            next_state, reward, done = env.step(action)\n",
        "            # 3. 다음 상태에서의 행동 선택\n",
        "            next_action = agent.get_action(next_state)\n",
        "            # 4. <s, a, r, s', a'>로 큐함수 업데이트\n",
        "            agent.learn(state, action, reward, next_state, next_action)\n",
        "\n",
        "            state = next_state\n",
        "            action = next_action # 다음 상태에 대해서도 반복할 준비\n",
        "\n",
        "            step_count += 1\n",
        "\n",
        "\n",
        "            # 모든 상태의 큐함수 출력\n",
        "            pass\n",
        "\n",
        "            if done: # if done == True\n",
        "                break\n",
        "\n",
        "        steps_per_episode.append(step_count)"
      ],
      "metadata": {
        "id": "bzJHw6KJ60wS"
      },
      "execution_count": 74,
      "outputs": []
    },
    {
      "cell_type": "code",
      "source": [
        "plt.plot(range(num_episodes), steps_per_episode)\n",
        "plt.xlabel('Episode')\n",
        "plt.ylabel('Steps')\n",
        "plt.title('Steps per Episode')\n",
        "plt.show()"
      ],
      "metadata": {
        "colab": {
          "base_uri": "https://localhost:8080/",
          "height": 472
        },
        "id": "HJWyT_ApxX7F",
        "outputId": "3b6bd761-f88d-4e80-f75c-5bdb1e121d8c"
      },
      "execution_count": 76,
      "outputs": [
        {
          "output_type": "display_data",
          "data": {
            "text/plain": [
              "<Figure size 640x480 with 1 Axes>"
            ],
            "image/png": "[encoded data removed]"
          },
          "metadata": {}
        }
      ]
    },
    {
      "cell_type": "code",
      "source": [],
      "metadata": {
        "id": "WmlYcfNV6u6M"
      },
      "execution_count": null,
      "outputs": []
    }
  ]
}