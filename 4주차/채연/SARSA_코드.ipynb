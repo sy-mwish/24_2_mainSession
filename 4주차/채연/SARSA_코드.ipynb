{
  "nbformat": 4,
  "nbformat_minor": 0,
  "metadata": {
    "colab": {
      "provenance": []
    },
    "kernelspec": {
      "name": "python3",
      "display_name": "Python 3"
    },
    "language_info": {
      "name": "python"
    }
  },
  "cells": [
    {
      "cell_type": "markdown",
      "source": [
        "# Import : by GitHub"
      ],
      "metadata": {
        "id": "s7yodASCqQnN"
      }
    },
    {
      "cell_type": "markdown",
      "source": [
        "You can try this code in Colab by this method.  "
      ],
      "metadata": {
        "id": "sNKnwgyLsdk7"
      }
    },
    {
      "cell_type": "code",
      "source": [
        "!git clone https://github.com/KanghwaSisters/24_2_mainSession.git"
      ],
      "metadata": {
        "colab": {
          "base_uri": "https://localhost:8080/"
        },
        "id": "mZkIAl9RqbgA",
        "outputId": "ef7bc81a-7f9a-400e-8a09-785ddd442beb"
      },
      "execution_count": null,
      "outputs": [
        {
          "output_type": "stream",
          "name": "stdout",
          "text": [
            "Cloning into '24_2_mainSession'...\n",
            "remote: Enumerating objects: 162, done.\u001b[K\n",
            "remote: Counting objects: 100% (162/162), done.\u001b[K\n",
            "remote: Compressing objects: 100% (122/122), done.\u001b[K\n",
            "remote: Total 162 (delta 68), reused 93 (delta 25), pack-reused 0 (from 0)\u001b[K\n",
            "Receiving objects: 100% (162/162), 993.62 KiB | 6.25 MiB/s, done.\n",
            "Resolving deltas: 100% (68/68), done.\n"
          ]
        }
      ]
    },
    {
      "cell_type": "code",
      "source": [
        "import os\n",
        "os.chdir('/content/24_2_mainSession/4주차/env')"
      ],
      "metadata": {
        "id": "p9gcnuUSr6be"
      },
      "execution_count": null,
      "outputs": []
    },
    {
      "cell_type": "code",
      "source": [
        "! python GridWorldEnvironment.py"
      ],
      "metadata": {
        "id": "yBP_YdvWsE3x"
      },
      "execution_count": null,
      "outputs": []
    },
    {
      "cell_type": "code",
      "source": [
        "from GridWorldEnvironment import GridWorldEnvironment"
      ],
      "metadata": {
        "id": "x3lvy6gWsE3x"
      },
      "execution_count": null,
      "outputs": []
    },
    {
      "cell_type": "code",
      "source": [
        "env = GridWorldEnvironment(start_point=(0,0),\n",
        "                           end_point=(4,4),\n",
        "                           gridworld_size=(5,5))"
      ],
      "metadata": {
        "id": "DNnwj-jO23E4"
      },
      "execution_count": null,
      "outputs": []
    },
    {
      "cell_type": "markdown",
      "source": [
        "# SARSA Class"
      ],
      "metadata": {
        "id": "Gvc0Jr9m6xZ3"
      }
    },
    {
      "cell_type": "code",
      "source": [
        "import numpy as np\n",
        "import random\n",
        "from collections import defaultdict"
      ],
      "metadata": {
        "id": "hLYRJG0y6ypp"
      },
      "execution_count": null,
      "outputs": []
    },
    {
      "cell_type": "code",
      "source": [
        "class SARSA:\n",
        "    def __init__(self, actions):\n",
        "        # 행동\n",
        "        self.action_spaces = env.action_space\n",
        "        self.num_actions = len(self.action_spaces)\n",
        "        # 상태(교재와 동일)\n",
        "        self.step_size = 0.01\n",
        "        self.discount_factor = 0.9\n",
        "        self.epsilon = 0.1\n",
        "        # 0을 초깃값으로 가지는 큐함수 테이블 생성\n",
        "        self.q_table = defaultdict(lambda: np.zeros(self.num_actions))\n",
        "\n",
        "    # <s, a, r, s', a'>의 샘플로부터 큐함수를 업데이트\n",
        "    def learn(self, state, action_idx, reward, next_state, next_action_idx):\n",
        "\n",
        "        '''\n",
        "        state를 string으로 변환하는 이유??\n",
        "        q_table을 defaultdict로 했기 때문에\n",
        "        dictionary의 키 값으로 (n,n)형태의 state를 string의 형태로 넣기 위해서\n",
        "        '''\n",
        "\n",
        "        # SARSA 식\n",
        "        state, next_state = str(state), str(next_state)\n",
        "        current_q = self.q_table[state][action_idx]\n",
        "        next_state_q = self.q_table[next_state][next_action_idx]\n",
        "        td = reward + self.discount_factor * next_state_q - current_q\n",
        "        new_q = current_q + self.step_size * td\n",
        "        self.q_table[state][action_idx] = new_q\n",
        "\n",
        "    # 입실론 탐욕 정책에 따라서 행동을 선택\n",
        "    def get_action(self, state):\n",
        "        if np.random.rand() < self.epsilon:\n",
        "            # 무작위 행동 반환\n",
        "            action_idx = np.random.choice(range(self.num_actions))\n",
        "        else:\n",
        "            # 큐함수에 따른 행동 반환\n",
        "            state = str(state)\n",
        "            q_list = self.q_table[state]\n",
        "            action_idx = self.argmax(q_list)\n",
        "\n",
        "        return action_idx\n",
        "\n",
        "    # 큐함수 값에 따라 최적의 행동을 반환\n",
        "    # np.argmax 안 쓰고 만드는 이유??\n",
        "    # argmax 오류/flatten 문제\n",
        "    def argmax(self, q_list):\n",
        "        # q_list에서 최댓값을 반환\n",
        "        max_value = np.amax(q_list)\n",
        "        # np.where의 반환값은 튜플형식이고 1차원 인덱스 배열만 필요\n",
        "        max_idx_list = np.where(max_value == q_list)[0]\n",
        "        # 최댓값을 가진 여러 인덱스가 있을 때, 그 중 하나를 무작위로 선택\n",
        "        return np.random.choice(max_idx_list)"
      ],
      "metadata": {
        "id": "i2ARNXZPdQPT"
      },
      "execution_count": null,
      "outputs": []
    },
    {
      "cell_type": "markdown",
      "source": [
        "# Main"
      ],
      "metadata": {
        "id": "7jW6ivs16zHO"
      }
    },
    {
      "cell_type": "markdown",
      "source": [
        "- **SARSA**를 이용해 그리드 월드 학습시키기  \n",
        "- 학습 지표 시각화"
      ],
      "metadata": {
        "id": "Kpj3a2xf7Pkz"
      }
    },
    {
      "cell_type": "code",
      "source": [
        "env = GridWorldEnvironment(start_point=(0,0),\n",
        "                           end_point=(4,4),\n",
        "                           gridworld_size=(5,5))\n",
        "agent = SARSA(env.action_space)\n",
        "EPISODES = 1000\n",
        "# 속도를 최적화하기 위해 rendering 비활성화\n",
        "RENDER_PROCESS = False # 학습 중 실시간 rendering\n",
        "RENDER_END = False # 에피소드 종료 후 상태 rendering\n",
        "total = []"
      ],
      "metadata": {
        "id": "bzJHw6KJ60wS"
      },
      "execution_count": null,
      "outputs": []
    },
    {
      "cell_type": "markdown",
      "source": [
      ],
      "metadata": {
        "id": "tYHH5mAbtlVz"
      }
    },
    {
      "cell_type": "code",
      "source": [
        "for episode in range(EPISODES):\n",
        "    # 게임 환경과 상태를 초기화\n",
        "    state = env.reset()\n",
        "    # 현재 상태에 대한 행동을 선택\n",
        "    action_idx = agent.get_action(state)\n",
        "    num = 0\n",
        "\n",
        "    done = False\n",
        "    while not done:\n",
        "        # 결과가 너무 길게 나와서\n",
        "        if RENDER_PROCESS:\n",
        "            env.render()\n",
        "\n",
        "        # 행동을 취한 후 다음 상태 보상 에피소드의 종료 여부를 받아옴\n",
        "        next_state, reward, done = env.step(action_idx)\n",
        "        # 다음 상태에서의 다음 행동을 선택\n",
        "        next_action_idx = agent.get_action(next_state)\n",
        "        # <<s, a, r, s', a'>>로 큐함수를 업데이트\n",
        "        agent.learn(state, action_idx, reward, next_state, next_action_idx)\n",
        "\n",
        "        state = next_state\n",
        "        action_idx = next_action_idx\n",
        "        num += 1\n",
        "\n",
        "    total.append(num)\n",
        "    if (episode+1) % 100 == 0:\n",
        "        print(f\"[Episode]: {episode+1}/{EPISODES} __ [mean]:{np.mean(total[episode-99:]):.1f} __ [Epsilon]: {agent.epsilon:.3f}\")\n",
        "\n",
        "    if RENDER_END:\n",
        "        env.render()"
      ],
      "metadata": {
        "colab": {
          "base_uri": "https://localhost:8080/"
        },
        "id": "gCZ9HxbMqfeD",
        "outputId": "85b09cd1-f981-4563-acb1-f4caa75957fd"
      },
      "execution_count": null,
      "outputs": [
        {
          "output_type": "stream",
          "name": "stdout",
          "text": [
            "[Episode]: 100/1000 __ [mean]:12.4 __ [Epsilon]: 0.100\n",
            "[Episode]: 200/1000 __ [mean]:8.9 __ [Epsilon]: 0.100\n",
            "[Episode]: 300/1000 __ [mean]:8.9 __ [Epsilon]: 0.100\n",
            "[Episode]: 400/1000 __ [mean]:8.8 __ [Epsilon]: 0.100\n",
            "[Episode]: 500/1000 __ [mean]:8.9 __ [Epsilon]: 0.100\n",
            "[Episode]: 600/1000 __ [mean]:8.9 __ [Epsilon]: 0.100\n",
            "[Episode]: 700/1000 __ [mean]:8.9 __ [Epsilon]: 0.100\n",
            "[Episode]: 800/1000 __ [mean]:9.0 __ [Epsilon]: 0.100\n",
            "[Episode]: 900/1000 __ [mean]:8.9 __ [Epsilon]: 0.100\n",
            "[Episode]: 1000/1000 __ [mean]:9.0 __ [Epsilon]: 0.100\n"
          ]
        }
      ]
    },
    {
      "cell_type": "code",
      "source": [
        "# 에이전트의 이동횟수 시각화\n",
        "import matplotlib.pyplot as plt\n",
        "plt.plot(total)"
      ],
      "metadata": {
        "colab": {
          "base_uri": "https://localhost:8080/",
          "height": 447
        },
        "id": "eIBnYtjJtP2E",
        "outputId": "7bd6a60d-c66a-4c12-f569-3adb62379bb6"
      },
      "execution_count": null,
      "outputs": [
        {
          "output_type": "execute_result",
          "data": {
            "text/plain": [
              "[<matplotlib.lines.Line2D at 0x7d69ff647640>]"
            ]
          },
          "metadata": {},
          "execution_count": 11
        },
        {
          "output_type": "display_data",
          "data": {
            "text/plain": [
              "<Figure size 640x480 with 1 Axes>"
            ],
            "image/png": "[encoded data removed]"
          },
          "metadata": {}
        }
      ]
    },
    {
      "cell_type": "code",
      "source": [
        "# 결과 확인\n",
        "env.render()"
      ],
      "metadata": {
        "id": "1xdZt27L7Wvh",
        "colab": {
          "base_uri": "https://localhost:8080/"
        },
        "outputId": "9d4fe78d-9ef8-4b11-ef5a-d5aed827c28b"
      },
      "execution_count": null,
      "outputs": [
        {
          "output_type": "stream",
          "name": "stdout",
          "text": [
            "S . . . . \n",
            "X . . . . \n",
            "X X X X . \n",
            ". . . X . \n",
            ". . . X A \n",
            "\n"
          ]
        }
      ]
    }
  ]
}
