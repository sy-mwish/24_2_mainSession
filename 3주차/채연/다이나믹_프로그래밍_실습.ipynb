{
  "nbformat": 4,
  "nbformat_minor": 0,
  "metadata": {
    "colab": {
      "provenance": []
    },
    "kernelspec": {
      "name": "python3",
      "display_name": "Python 3"
    },
    "language_info": {
      "name": "python"
    }
  },
  "cells": [
    {
      "cell_type": "markdown",
      "source": [
        "## 다이나믹 프로그래밍\n",
        "다음 환경(**GridWorldEnvironment**)을 가지고 가치 이터레이션, 정책 이터레이션을 구현하세요."
      ],
      "metadata": {
        "id": "HyNmkw66VPdZ"
      }
    },
    {
      "cell_type": "markdown",
      "source": [
        "## GridWorldEnvironment\n",
        "```py\n",
        "start_point = (0,0)\n",
        "end_point = (4,4)\n",
        "gridworld_size = (5,5)\n",
        "env = GridWorldEnvironment(start_point, end_point, grid_world_size)\n",
        "```"
      ],
      "metadata": {
        "id": "AJazHY8WUeo9"
      }
    },
    {
      "cell_type": "markdown",
      "source": [
        "## Original Code"
      ],
      "metadata": {
        "id": "FrEXfXlQW5CY"
      }
    },
    {
      "cell_type": "code",
      "execution_count": null,
      "metadata": {
        "id": "OOi9LMUhUY3K"
      },
      "outputs": [],
      "source": [
        "import numpy as np\n",
        "from typing import Tuple\n",
        "\n",
        "class GridWorldEnvironment:\n",
        "    def __init__(self, start_point:Tuple, end_point:Tuple, grid_world_size:Tuple):\n",
        "        # 시작점과 끝점을 받는다.\n",
        "        self.start_point = start_point\n",
        "        self.end_point = end_point if end_point != (-1,-1) else (grid_world_size[0] + end_point[0],\n",
        "                                                                 grid_world_size[1] + end_point[1])\n",
        "\n",
        "        # 그리드 월드의 규격을 받는다.\n",
        "        self.width, self.height = grid_world_size\n",
        "\n",
        "        # action dictionary\n",
        "        self.action_space = ['up', 'down', 'left', 'right']\n",
        "        self.num_actions = len(self.action_space)\n",
        "        self.actions = {'up':(-1,0),\n",
        "                        'down':(1,0),\n",
        "                        'left':(0,-1),\n",
        "                        'right':(0,1) }\n",
        "\n",
        "        # 상태 : 좌표로 나타남\n",
        "        self.traces = []\n",
        "\n",
        "        # total states\n",
        "        self.total_states = []\n",
        "        for x in range(self.width):\n",
        "            for y in range(self.height):\n",
        "                self.total_states.append((x,y))\n",
        "\n",
        "        # reward\n",
        "        self.reward = np.zeros(shape=(self.height, self.width)).tolist()\n",
        "        self.reward[end_point[0]][end_point[1]] = 1\n",
        "\n",
        "    def render(self):\n",
        "        # 그리드 월드의 상태를 출력한다.\n",
        "        self.grid_world = np.full(shape=(self.height, self.width), fill_value=\".\").tolist()\n",
        "\n",
        "        last_point = self.traces[-1] # 에이전트가 가장 마지막에 있었던 위치\n",
        "        traces = list(set(self.traces)) # 중복된 값을 삭제하기 위함\n",
        "        for trace in traces:\n",
        "            self.grid_world[trace[0]][trace[1]] = \"X\"\n",
        "\n",
        "        self.grid_world[self.start_point[0]][self.start_point[1]] = \"S\" # start point\n",
        "        self.grid_world[self.end_point[0]][self.end_point[1]] = \"G\" # end point\n",
        "        self.grid_world[last_point[0]][last_point[1]] = \"A\" # 현재 에이전트의 위치\n",
        "\n",
        "        # string으로 출력한다.\n",
        "        grid = \"\"\n",
        "\n",
        "        for i in range(self.height):\n",
        "            for j in range(self.width):\n",
        "                grid += self.grid_world[i][j]+\" \"\n",
        "            grid += \"\\n\"\n",
        "\n",
        "        print(grid)\n",
        "\n",
        "    def get_reward(self, state, action_idx):\n",
        "        next_state = self.state_after_action(state, action_idx)\n",
        "        return self.reward[next_state[0]][next_state[1]]\n",
        "\n",
        "    def state_after_action(self, state, action_idx:int):\n",
        "        action = self.action_space[action_idx]\n",
        "        row_movement, col_movement = self.actions[action]\n",
        "\n",
        "        # action에 따라 에이전트 이동\n",
        "        next_state = (state[0]+row_movement, state[1]+col_movement)\n",
        "        next_state = self.check_boundary(next_state)\n",
        "\n",
        "        return next_state\n",
        "\n",
        "    def check_boundary(self, state):\n",
        "        state = list(state)\n",
        "        state[0] = (0 if state[0] < 0 else self.height - 1 if state[0] > self.height - 1 else state[0])\n",
        "        state[1] = (0 if state[1] < 0 else self.width - 1 if state[1] > self.width - 1 else state[1])\n",
        "        return tuple(state)"
      ]
    },
    {
      "cell_type": "markdown",
      "source": [
        "## Own Code\n",
        "위 환경 클래스를 상속 받아 `env.render` 코드를 구현하세요."
      ],
      "metadata": {
        "id": "DHhCH3oBW79l"
      }
    },
    {
      "cell_type": "markdown",
      "source": [
        "### 처음에 잘못 구현한 ver."
      ],
      "metadata": {
        "id": "vHlGg19jWrdo"
      }
    },
    {
      "cell_type": "code",
      "source": [
        "env = GridWorldEnvironment(start_point=(0,0),\n",
        "                           end_point=(4,4),\n",
        "                           grid_world_size=(5,5))\n",
        "env.traces = [(0, 0), (1, 0), (2, 0), (2, 1)]\n",
        "env.render()"
      ],
      "metadata": {
        "id": "KQ1M1GHzX3Gg",
        "colab": {
          "base_uri": "https://localhost:8080/"
        },
        "outputId": "71ebe52d-68fe-4a20-c773-e99ddfd73b5a"
      },
      "execution_count": null,
      "outputs": [
        {
          "output_type": "stream",
          "name": "stdout",
          "text": [
            "S . . . . \n",
            "X . . . . \n",
            "X A . . . \n",
            ". . . . . \n",
            ". . . . G \n",
            "\n"
          ]
        }
      ]
    },
    {
      "cell_type": "code",
      "source": [
        "def RENDER(env,ans,total):\n",
        "    for i in range(Iteration):\n",
        "        state = env.start_point\n",
        "        env.traces = []\n",
        "        num = 0\n",
        "\n",
        "        if ans == policy:\n",
        "            ans.policy_evaluation()\n",
        "            ans.policy_improvement()\n",
        "        else:\n",
        "            ans.value_iteration()\n",
        "\n",
        "        while state != env.end_point:\n",
        "            action = ans.get_action(state) # 정책에 따라 취할 행동\n",
        "            if isinstance(action, list):\n",
        "                action = action[0]  # 여러 개일 경우 첫 번째 행동 선택\n",
        "            next_state = env.state_after_action(state, action)\n",
        "            state = next_state\n",
        "            env.traces.append(state)\n",
        "\n",
        "            num += 1\n",
        "\n",
        "        total.append(num)\n",
        "        print(f\"iter: {i+1}    num: {num}\" )\n",
        "\n",
        "        if RENDER_END:\n",
        "            env.render()\n",
        "\n",
        "    plt.plot(total)"
      ],
      "metadata": {
        "collapsed": true,
        "id": "IUcA_G66jhs5"
      },
      "execution_count": null,
      "outputs": []
    },
    {
      "cell_type": "markdown",
      "source": [
        "# 01. 정책 이터레이션\n",
        "- 스켈레톤 코드  \n",
        "`init` 부를 제외한 나머지 매소드를 채워주세요."
      ],
      "metadata": {
        "id": "LrGQnOj3VmdT"
      }
    },
    {
      "cell_type": "code",
      "source": [
        "class PolicyIteration:\n",
        "    def __init__(self,env):\n",
        "        # about env\n",
        "        self.env = env\n",
        "        self.action_space = env.action_space # ['up', 'down', 'left', 'right'] 차례대로 (-1,0) (1,0) (0,-1) (0,1)\n",
        "        self.num_action = len(self.action_space)\n",
        "\n",
        "        # value 2d list\n",
        "        self.value_table = np.zeros(shape = (env.height, env.width)).tolist() # Appendix 1\n",
        "\n",
        "        # 상하좌우 동일한 확률을 가지는 정책으로 초기화\n",
        "        self.policy_table = np.full(shape = (env.height, env.width, self.num_action), fill_value = 1/self.num_action).tolist()\n",
        "\n",
        "        # end state 에서는 어떠한 행동도 할 필요가 없어서 policy table을 비운다.\n",
        "        self.policy_table[env.end_point[0]][env.end_point[1]] = []\n",
        "\n",
        "        self.gamma = 0.9 # 할인율\n",
        "\n",
        "    # 상태에 따른 정책 반환\n",
        "    def get_policy(self, state):\n",
        "        return self.policy_table[state[0]][state[1]]\n",
        "\n",
        "    # 가치함수의 값을 반환\n",
        "    def get_value(self, state):\n",
        "        return self.value_table[state[0]][state[1]]\n",
        "\n",
        "    # 특정 상태에서 정책에 따른 행동\n",
        "    def get_action(self,state):\n",
        "        policy = self.get_policy(state)\n",
        "        policy = np.array(policy)\n",
        "        return np.random.choice(self.num_action, 1, p=policy)[0]\n",
        "\n",
        "    # 정책 평가\n",
        "    def policy_evaluation(self):\n",
        "        # 모든 상태에 대해서 벨만 기대 방정식을 계산\n",
        "        for state in self.env.total_states:\n",
        "            value = 0.0\n",
        "            # 마침 상태의 가치함수 = 0\n",
        "            if state == self.env.end_point:\n",
        "                self.value_table[state[0]][state[1]] = value\n",
        "\n",
        "            else:\n",
        "                # 벨만 기대 방정식\n",
        "                for action in range(self.num_action):\n",
        "                    next_state = self.env.state_after_action(state, action)\n",
        "                    reward = self.env.get_reward(state, action)\n",
        "                    next_value = self.get_value(next_state)\n",
        "                    value += (self.get_policy(state)[action] * (reward + self.gamma * next_value))\n",
        "                self.value_table[state[0]][state[1]] = value\n",
        "\n",
        "    # 현재 가치함수에 대해서 탐욕 정책 발전\n",
        "    def policy_improvement(self):\n",
        "        next_policy = self.policy_table\n",
        "        for state in self.env.total_states:\n",
        "                if state == self.env.end_point:\n",
        "                    continue\n",
        "\n",
        "                value_list = []\n",
        "                # 반환할 정책 초기화\n",
        "                result = [0.0,0.0,0.0,0.0]\n",
        "\n",
        "                # 모든 행동에 대해서 [보상 + (할인율*다음 상태 가치함수)] 계산\n",
        "                for idx in range(self.num_action):\n",
        "                    next_state = self.env.state_after_action(state,idx)\n",
        "                    reward = self.env.get_reward(state,idx)\n",
        "                    next_value = self.get_value(next_state)\n",
        "                    value = reward + self.gamma * next_value\n",
        "                    value_list.append(value)\n",
        "\n",
        "                # 받을 보상이 최대인 행동들에 대해 탐욕 정책 발전\n",
        "                max_idx_list = np.argwhere(value_list == np.amax(value_list))\n",
        "                max_idx_list = max_idx_list.flatten().tolist()\n",
        "                prob = 1/len(max_idx_list)\n",
        "\n",
        "                for idx in max_idx_list:\n",
        "                    result[idx] = prob\n",
        "\n",
        "                next_policy[state[0]][state[1]] = result\n",
        "\n",
        "        self.policy_table = next_policy"
      ],
      "metadata": {
        "id": "3cSmPtYxVqrl"
      },
      "execution_count": null,
      "outputs": []
    },
    {
      "cell_type": "markdown",
      "source": [
        "## 정책 이터레이션 실행\n",
        "정의한 클래스를 이용해 정책 이터레이션을 실행해 주세요."
      ],
      "metadata": {
        "id": "vHhUyl4PYSez"
      }
    },
    {
      "cell_type": "code",
      "source": [
        "import matplotlib.pyplot as plt\n",
        "Iteration = 15\n",
        "RENDER_END = True\n",
        "env = GridWorldEnvironment(start_point=(0,0),\n",
        "                           end_point=(4,4),\n",
        "                           grid_world_size=(5,5))\n",
        "policy = PolicyIteration(env)\n",
        "end_point = env.end_point\n",
        "total = []\n",
        "RENDER(env, policy,total)"
      ],
      "metadata": {
        "colab": {
          "base_uri": "https://localhost:8080/",
          "height": 1000
        },
        "id": "LN6DCmkDtKON",
        "outputId": "b7b85dab-0714-406f-e1ec-bfaaab7d5c99"
      },
      "execution_count": null,
      "outputs": [
        {
          "output_type": "stream",
          "name": "stdout",
          "text": [
            "iter: 1    num: 41\n",
            "S . . . . \n",
            "X . . . . \n",
            "X . . . . \n",
            "X X . . . \n",
            "X X X X A \n",
            "\n",
            "iter: 2    num: 17\n",
            "S X X X . \n",
            "X X X X . \n",
            "X X X X . \n",
            ". X . X . \n",
            ". . . X A \n",
            "\n",
            "iter: 3    num: 9\n",
            "S X . . . \n",
            ". X X X . \n",
            ". . . X . \n",
            ". . . X X \n",
            ". . . . A \n",
            "\n",
            "iter: 4    num: 10\n",
            "S X X . . \n",
            ". . X X X \n",
            ". . . . X \n",
            ". . . . X \n",
            ". . . . A \n",
            "\n",
            "iter: 5    num: 9\n",
            "S . . . . \n",
            "X . . . . \n",
            "X X X X X \n",
            ". . . . X \n",
            ". . . . A \n",
            "\n",
            "iter: 6    num: 11\n",
            "S . . . . \n",
            "X . . . . \n",
            "X X X X X \n",
            ". . . . X \n",
            ". . . . A \n",
            "\n",
            "iter: 7    num: 8\n",
            "S X . . . \n",
            ". X . . . \n",
            ". X . . . \n",
            ". X . . . \n",
            ". X X X A \n",
            "\n",
            "iter: 8    num: 8\n",
            "S . . . . \n",
            "X X . . . \n",
            ". X X . . \n",
            ". . X X X \n",
            ". . . . A \n",
            "\n",
            "iter: 9    num: 8\n",
            "S X X X X \n",
            ". . . . X \n",
            ". . . . X \n",
            ". . . . X \n",
            ". . . . A \n",
            "\n",
            "iter: 10    num: 8\n",
            "S X X . . \n",
            ". . X . . \n",
            ". . X . . \n",
            ". . X . . \n",
            ". . X X A \n",
            "\n",
            "iter: 11    num: 8\n",
            "S . . . . \n",
            "X . . . . \n",
            "X . . . . \n",
            "X . . . . \n",
            "X X X X A \n",
            "\n",
            "iter: 12    num: 8\n",
            "S . . . . \n",
            "X . . . . \n",
            "X . . . . \n",
            "X X X . . \n",
            ". . X X A \n",
            "\n",
            "iter: 13    num: 8\n",
            "S . . . . \n",
            "X X X X . \n",
            ". . . X X \n",
            ". . . . X \n",
            ". . . . A \n",
            "\n",
            "iter: 14    num: 8\n",
            "S . . . . \n",
            "X . . . . \n",
            "X . . . . \n",
            "X . . . . \n",
            "X X X X A \n",
            "\n",
            "iter: 15    num: 8\n",
            "S X X X . \n",
            ". . . X . \n",
            ". . . X X \n",
            ". . . . X \n",
            ". . . . A \n",
            "\n"
          ]
        },
        {
          "output_type": "display_data",
          "data": {
            "text/plain": [
              "<Figure size 640x480 with 1 Axes>"
            ],
            "image/png": "[encoded data removed]"
          },
          "metadata": {}
        }
      ]
    },
    {
      "cell_type": "markdown",
      "source": [
        "## 학습에서 중요한 정보\n",
        "학습이 되고 있는 것을 판단할 수 있는 파라미터를 찾아 시각화해 주세요."
      ],
      "metadata": {
        "id": "j2FMBu8zX7Kg"
      }
    },
    {
      "cell_type": "markdown",
      "source": [
        "# 02. 가치 이터레이션\n",
        "- 스켈레톤 코드  \n",
        "`init` 부를 제외한 나머지 매소드를 채워주세요."
      ],
      "metadata": {
        "id": "8tutibdyYwAW"
      }
    },
    {
      "cell_type": "code",
      "source": [
        "class ValueIteration:\n",
        "    def __init__(self, env):\n",
        "\n",
        "        self.env = env\n",
        "        self.action_space = env.action_space\n",
        "        self.num_actions = env.num_actions\n",
        "\n",
        "        # value 2d list\n",
        "        self.value_table = np.zeros(shape=(env.height, env.width)).tolist()\n",
        "\n",
        "        self.gamma = 0.9 # 할인율\n",
        "\n",
        "    def value_iteration(self):\n",
        "        # 모든 상태에 대해서 벨만 최적방정식을 계산\n",
        "        for state in self.env.total_states:\n",
        "            # 마침 상태의 가치함수 = 0\n",
        "            if state == self.env.end_point:\n",
        "                self.value_table[state[0]][state[1]] = 0.0\n",
        "            else:\n",
        "                # 벨만 최적 방정식\n",
        "                value_list = []\n",
        "                for action in range(self.num_actions):\n",
        "                    next_state = self.env.state_after_action(state, action)\n",
        "                    reward = self.env.get_reward(state, action)\n",
        "                    next_value = self.get_value(next_state)\n",
        "                    value_list.append((reward + self.gamma * next_value))\n",
        "\n",
        "                # 최댓값을 다음 가치함수로 대입\n",
        "                self.value_table[state[0]][state[1]] = max(value_list)\n",
        "\n",
        "    def get_action(self, state):\n",
        "        if state == self.env.end_point:\n",
        "            return []\n",
        "        else:# 모든 행동에 대해 큐함수 (보상 + (할인율 * 다음 상태 가치함수))를 계산\n",
        "             value_list = []\n",
        "             for idx in range(self.num_actions):\n",
        "                 next_state = self.env.state_after_action(state, idx)\n",
        "                 reward = self.env.get_reward(state, idx)\n",
        "                 next_value = self.get_value(next_state)\n",
        "                 value = (reward + self.gamma * next_value)\n",
        "                 value_list.append(value)\n",
        "\n",
        "             # 최대 큐함수를 가진 행동(복수일 경우 여러 개)를 반환\n",
        "             max_idx_list = np.argwhere(value_list == np.amax(value_list))\n",
        "             action_list = max_idx_list.flatten().tolist()\n",
        "             action_idx = np.random.choice(action_list) # 왜 이걸 추가해야 하는지 생각해보기\n",
        "             return action_idx\n",
        "\n",
        "    def get_value(self, state):\n",
        "        return self.value_table[state[0]][state[1]]"
      ],
      "metadata": {
        "id": "-rnooRxnYwAW"
      },
      "execution_count": null,
      "outputs": []
    },
    {
      "cell_type": "markdown",
      "source": [
        "## 가치 이터레이션 실행\n",
        "정의한 클래스를 이용해 정책 이터레이션을 실행해 주세요."
      ],
      "metadata": {
        "id": "d073zNNfYwAW"
      }
    },
    {
      "cell_type": "code",
      "source": [
        "iter = 5\n",
        "env = GridWorldEnvironment(start_point=(0,0),\n",
        "                           end_point=(4,4),\n",
        "                           grid_world_size=(5,5))\n",
        "RENDER_END = True\n",
        "value = ValueIteration(env)\n",
        "end_point = env.end_point\n",
        "total = []\n",
        "\n",
        "RENDER(env, value, total)"
      ],
      "metadata": {
        "colab": {
          "base_uri": "https://localhost:8080/",
          "height": 1000
        },
        "id": "ptXR2DmKulUT",
        "outputId": "2601ecf4-aae4-4870-ad2c-98f244a0fa3a"
      },
      "execution_count": null,
      "outputs": [
        {
          "output_type": "stream",
          "name": "stdout",
          "text": [
            "iter: 1    num: 34\n",
            "S X X X X \n",
            ". . X X X \n",
            ". . X X . \n",
            ". . . X X \n",
            ". . . . A \n",
            "\n",
            "iter: 2    num: 11\n",
            "S . . . . \n",
            "X . X . . \n",
            "X X X . . \n",
            ". . X X . \n",
            ". . . X A \n",
            "\n",
            "iter: 3    num: 16\n",
            "S X . . . \n",
            "X X . . . \n",
            ". X . . . \n",
            ". X X . . \n",
            ". . X X A \n",
            "\n",
            "iter: 4    num: 17\n",
            "S X . . . \n",
            "X . . . . \n",
            "X X . . . \n",
            ". X X . . \n",
            ". . X X A \n",
            "\n",
            "iter: 5    num: 9\n",
            "S . . . . \n",
            "X . . . . \n",
            "X . . . . \n",
            "X X . . . \n",
            ". X X X A \n",
            "\n",
            "iter: 6    num: 8\n",
            "S X X . . \n",
            ". . X . . \n",
            ". . X . . \n",
            ". . X X . \n",
            ". . . X A \n",
            "\n",
            "iter: 7    num: 8\n",
            "S . . . . \n",
            "X X . . . \n",
            ". X X . . \n",
            ". . X X X \n",
            ". . . . A \n",
            "\n",
            "iter: 8    num: 8\n",
            "S X X X . \n",
            ". . . X X \n",
            ". . . . X \n",
            ". . . . X \n",
            ". . . . A \n",
            "\n",
            "iter: 9    num: 8\n",
            "S . . . . \n",
            "X . . . . \n",
            "X X X X X \n",
            ". . . . X \n",
            ". . . . A \n",
            "\n",
            "iter: 10    num: 8\n",
            "S X . . . \n",
            ". X . . . \n",
            ". X X . . \n",
            ". . X . . \n",
            ". . X X A \n",
            "\n",
            "iter: 11    num: 8\n",
            "S X X X . \n",
            ". . . X X \n",
            ". . . . X \n",
            ". . . . X \n",
            ". . . . A \n",
            "\n",
            "iter: 12    num: 8\n",
            "S X . . . \n",
            ". X . . . \n",
            ". X . . . \n",
            ". X . . . \n",
            ". X X X A \n",
            "\n",
            "iter: 13    num: 8\n",
            "S X . . . \n",
            ". X . . . \n",
            ". X X X . \n",
            ". . . X . \n",
            ". . . X A \n",
            "\n",
            "iter: 14    num: 8\n",
            "S . . . . \n",
            "X . . . . \n",
            "X . . . . \n",
            "X X X X X \n",
            ". . . . A \n",
            "\n",
            "iter: 15    num: 8\n",
            "S . . . . \n",
            "X . . . . \n",
            "X X X X . \n",
            ". . . X . \n",
            ". . . X A \n",
            "\n"
          ]
        },
        {
          "output_type": "display_data",
          "data": {
            "text/plain": [
              "<Figure size 640x480 with 1 Axes>"
            ],
            "image/png": "[encoded data removed]"
          },
          "metadata": {}
        }
      ]
    },
    {
      "cell_type": "markdown",
      "source": [
        "## 학습에서 중요한 정보\n",
        "학습이 되고 있는 것을 판단할 수 있는 파라미터/요소를 찾아 시각화해 주세요."
      ],
      "metadata": {
        "id": "sR6OuQVAYwAW"
      }
    }
  ]
}