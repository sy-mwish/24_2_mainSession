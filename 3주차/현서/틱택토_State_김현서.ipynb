{
  "nbformat": 4,
  "nbformat_minor": 0,
  "metadata": {
    "colab": {
      "provenance": []
    },
    "kernelspec": {
      "name": "python3",
      "display_name": "Python 3"
    },
    "language_info": {
      "name": "python"
    }
  },
  "cells": [
    {
      "cell_type": "markdown",
      "source": [
        "# State class\n",
        "틱택토 상태를 나타낼 수 있는 class를 만들어 주세요.\n",
        "\n",
        "- 2명의 플레이어가 있고, 각 플레이어의 수가 뭔지 식별가능해야 합니다.  \n",
        "\n",
        "**꼭 구현해야할 매소드(주니어/시니어 공통)**\n",
        "- 둘 수 있는 위치가 어딘지 알려주는 함수\n",
        "- win / lose / draw를 식별해주는 함수\n",
        "- render 함수\n",
        "\n",
        "**min-max algorithm / alpha-beta algorithm 구현(시니어)**\n",
        "\n",
        "### 🚨 만약 감이 안 온다면 운영진에게 연락주시면 참고할 만한 레퍼런스를 보내드리겠습니다.\n",
        "### 🚨 참고한 레퍼런스가 있다면, 출처를 남겨주세요."
      ],
      "metadata": {
        "id": "aOdETJG1a4Ok"
      }
    },
    {
      "cell_type": "code",
      "source": [
        "class TicTacToe:\n",
        "    def __init__(self):\n",
        "        # 3x3 빈 보드를 초기화 (빈칸은 None으로 표시)\n",
        "        self.board = [[None for _ in range(3)] for _ in range(3)]\n",
        "        self.current_player = 'X'  # X가 먼저 시작\n",
        "        self.winner = None\n",
        "\n",
        "    def switch_player(self):\n",
        "        # 현재 플레이어를 변경\n",
        "        self.current_player = 'O' if self.current_player == 'X' else 'X'\n",
        "\n",
        "    def is_valid_move(self, row, col):\n",
        "        # 주어진 위치가 비어 있으면 유효한 움직임\n",
        "        return self.board[row][col] is None\n",
        "\n",
        "    def make_move(self, row, col):\n",
        "        # 주어진 위치에 현재 플레이어의 마크를 두는 함수 (X의 수는 X, O의 수는 O이므로 현재 self.current_player로 표시)\n",
        "        if self.is_valid_move(row, col):\n",
        "            self.board[row][col] = self.current_player\n",
        "            if self.check_winner():\n",
        "                self.winner = self.current_player\n",
        "            else:\n",
        "                self.switch_player()\n",
        "        else:\n",
        "            print(f\"Invalid move at ({row}, {col}). Try again.\")\n",
        "\n",
        "    def available_moves(self):\n",
        "        # 남아있는 빈칸(둘 수 있는 위치)의 리스트를 반환\n",
        "        return [(r, c) for r in range(3) for c in range(3) if self.board[r][c] is None]\n",
        "\n",
        "    def check_winner(self):\n",
        "        # 가로, 세로, 대각선에 동일한 플레이어의 마크가 있는지 확인\n",
        "        for row in range(3):\n",
        "            if self.board[row][0] == self.board[row][1] == self.board[row][2] == self.current_player:\n",
        "                return True\n",
        "        for col in range(3):\n",
        "            if self.board[0][col] == self.board[1][col] == self.board[2][col] == self.current_player:\n",
        "                return True\n",
        "        if self.board[0][0] == self.board[1][1] == self.board[2][2] == self.current_player:\n",
        "            return True\n",
        "        if self.board[0][2] == self.board[1][1] == self.board[2][0] == self.current_player:\n",
        "            return True\n",
        "        return False\n",
        "\n",
        "    def is_draw(self):\n",
        "        # 빈칸이 없고 승자가 없는 경우 무승부\n",
        "        return all(self.board[row][col] is not None for row in range(3) for col in range(3)) and self.winner is None\n",
        "\n",
        "    def render(self):\n",
        "        # 현재 보드를 텍스트로 표시\n",
        "        for row in self.board:\n",
        "            print(' | '.join([cell if cell is not None else ' ' for cell in row]))\n",
        "            print('-' * 9)\n",
        "\n",
        "    def game_status(self):\n",
        "        # 게임 상태를 확인하는 함수 (승리, 무승부, 진행 중)\n",
        "        if self.winner:\n",
        "            return f\"Player {self.winner} wins!\"\n",
        "        elif self.is_draw():\n",
        "            return \"Draw!\"\n",
        "        else:\n",
        "            return f\"Player {self.current_player}'s turn.\"\n",
        "\n",
        "# 실행 코드\n",
        "if __name__ == \"__main__\":\n",
        "    game = TicTacToe()\n",
        "    game.render()\n",
        "    while not game.winner and not game.is_draw():\n",
        "        row, col = map(int, input(\"Enter row and column (0-2): \").split())\n",
        "        game.make_move(row, col)\n",
        "        game.render()\n",
        "        print(game.game_status())\n"
      ],
      "metadata": {
        "id": "8f-BR1Nsd0X4",
        "colab": {
          "base_uri": "https://localhost:8080/"
        },
        "outputId": "9d59167f-af92-4528-d3c4-6a77d7c4fd4f"
      },
      "execution_count": null,
      "outputs": [
        {
          "output_type": "stream",
          "name": "stdout",
          "text": [
            "  |   |  \n",
            "---------\n",
            "  |   |  \n",
            "---------\n",
            "  |   |  \n",
            "---------\n",
            "Enter row and column (0-2): 0 2\n",
            "  |   | X\n",
            "---------\n",
            "  |   |  \n",
            "---------\n",
            "  |   |  \n",
            "---------\n",
            "Player O's turn.\n",
            "Enter row and column (0-2): 1 1\n",
            "  |   | X\n",
            "---------\n",
            "  | O |  \n",
            "---------\n",
            "  |   |  \n",
            "---------\n",
            "Player X's turn.\n",
            "Enter row and column (0-2): 1 2\n",
            "  |   | X\n",
            "---------\n",
            "  | O | X\n",
            "---------\n",
            "  |   |  \n",
            "---------\n",
            "Player O's turn.\n",
            "Enter row and column (0-2): 0 0\n",
            "O |   | X\n",
            "---------\n",
            "  | O | X\n",
            "---------\n",
            "  |   |  \n",
            "---------\n",
            "Player X's turn.\n",
            "Enter row and column (0-2): 2 2\n",
            "O |   | X\n",
            "---------\n",
            "  | O | X\n",
            "---------\n",
            "  |   | X\n",
            "---------\n",
            "Player X wins!\n"
          ]
        }
      ]
    },
    {
      "cell_type": "code",
      "source": [
        "from google.colab import drive\n",
        "drive.mount('/content/drive')"
      ],
      "metadata": {
        "colab": {
          "base_uri": "https://localhost:8080/"
        },
        "id": "5TOpgPsCV_DQ",
        "outputId": "c4ea4d53-eb9b-4866-c276-56ea15b4a51e"
      },
      "execution_count": null,
      "outputs": [
        {
          "output_type": "stream",
          "name": "stdout",
          "text": [
            "Mounted at /content/drive\n"
          ]
        }
      ]
    },
    {
      "cell_type": "code",
      "source": [],
      "metadata": {
        "id": "KV87WpJWV_jP"
      },
      "execution_count": null,
      "outputs": []
    }
  ]
}