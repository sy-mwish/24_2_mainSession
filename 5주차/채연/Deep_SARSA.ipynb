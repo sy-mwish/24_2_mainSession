{
  "nbformat": 4,
  "nbformat_minor": 0,
  "metadata": {
    "colab": {
      "provenance": []
    },
    "kernelspec": {
      "name": "python3",
      "display_name": "Python 3"
    },
    "language_info": {
      "name": "python"
    }
  },
  "cells": [
    {
      "cell_type": "markdown",
      "source": [
        "# Import : by GitHub"
      ],
      "metadata": {
        "id": "s7yodASCqQnN"
      }
    },
    {
      "cell_type": "markdown",
      "source": [
        "You can try this code in Colab by this method.  "
      ],
      "metadata": {
        "id": "sNKnwgyLsdk7"
      }
    },
    {
      "cell_type": "code",
      "source": [
        "!git clone https://github.com/KanghwaSisters/24_2_mainSession.git"
      ],
      "metadata": {
        "colab": {
          "base_uri": "https://localhost:8080/"
        },
        "id": "mZkIAl9RqbgA",
        "outputId": "6b941091-45cd-45b7-fe9b-bcb7aa038df2"
      },
      "execution_count": 1,
      "outputs": [
        {
          "output_type": "stream",
          "name": "stdout",
          "text": [
            "Cloning into '24_2_mainSession'...\n",
            "remote: Enumerating objects: 288, done.\u001b[K\n",
            "remote: Counting objects: 100% (140/140), done.\u001b[K\n",
            "remote: Compressing objects: 100% (92/92), done.\u001b[K\n",
            "remote: Total 288 (delta 81), reused 67 (delta 40), pack-reused 148 (from 1)\u001b[K\n",
            "Receiving objects: 100% (288/288), 1.29 MiB | 3.37 MiB/s, done.\n",
            "Resolving deltas: 100% (123/123), done.\n"
          ]
        }
      ]
    },
    {
      "cell_type": "code",
      "source": [
        "import os\n",
        "os.chdir('/content/24_2_mainSession/4주차/env')"
      ],
      "metadata": {
        "id": "p9gcnuUSr6be"
      },
      "execution_count": 2,
      "outputs": []
    },
    {
      "cell_type": "code",
      "source": [
        "! python GridWorldEnvironment.py"
      ],
      "metadata": {
        "id": "yBP_YdvWsE3x"
      },
      "execution_count": 3,
      "outputs": []
    },
    {
      "cell_type": "code",
      "source": [
        "from GridWorldEnvironment import GridWorldEnvironment"
      ],
      "metadata": {
        "id": "x3lvy6gWsE3x"
      },
      "execution_count": 4,
      "outputs": []
    },
    {
      "cell_type": "markdown",
      "source": [
        "# Deep SARSA Class"
      ],
      "metadata": {
        "id": "Gvc0Jr9m6xZ3"
      }
    },
    {
      "cell_type": "code",
      "source": [
        "import random\n",
        "import numpy as np\n",
        "import torch\n",
        "import torch.nn as nn\n",
        "import torch.optim as optim\n",
        "import torch.nn.functional as F"
      ],
      "metadata": {
        "id": "hLYRJG0y6ypp"
      },
      "execution_count": 5,
      "outputs": []
    },
    {
      "cell_type": "code",
      "source": [
        "# 딥살사 인공신경망\n",
        "class DeepSARSA(nn.Module):\n",
        "    def __init__(self, state_size, action_size):\n",
        "        super(DeepSARSA, self).__init__()\n",
        "        self.fc1 = nn.Linear(state_size, 30)\n",
        "        self.fc2 = nn.Linear(30, 30)\n",
        "        self.fc_out = nn.Linear(30, action_size)\n",
        "\n",
        "    def forward(self, x):\n",
        "        x = self.fc1(x)\n",
        "        x = self.fc2(x)\n",
        "        q = self.fc_out(x)\n",
        "        return q"
      ],
      "metadata": {
        "id": "HzndRBXdL2lu"
      },
      "execution_count": 32,
      "outputs": []
    },
    {
      "cell_type": "code",
      "source": [
        "class DeepSARSAgent:\n",
        "    def __init__(self, state_size, action):\n",
        "        # 행동\n",
        "        self.action_spaces = action\n",
        "        self.num_actions = len(self.action_spaces)\n",
        "        # 상태(교재와 동일)\n",
        "        self.learning_rate = 0.001\n",
        "        self.discount_factor = 0.99\n",
        "        self.epsilon = 1. # 탐험-탐사 비율 (처음에는 탐험 많이 하도록 1로 설정)\n",
        "        self.epsilon_decay = 0.999 # 탐험 비율 감소 속도 (학습이 진행됨에 따라 점차 감소)\n",
        "        self.epsilon_min = 0.01 # 탐험 비율의 최솟값\n",
        "        self.model = DeepSARSA(state_size, self.num_actions)\n",
        "        self.optimizer = torch.optim.Adam(self.model.parameters(), lr=self.learning_rate)\n",
        "\n",
        "    # 입실론 탐욕 정책에 따라서 행동을 선택\n",
        "    def get_action(self, state):\n",
        "        if np.random.rand() < self.epsilon:\n",
        "            return random.randrange(self.num_actions)\n",
        "        else:\n",
        "            # 큐함수에 따른 행동 반환\n",
        "            state = torch.tensor(state, dtype=torch.float32)\n",
        "            q_values = self.model(state)\n",
        "            return torch.argmax(q_values).item()\n",
        "\n",
        "    # 샘플을 가지고 인공신경망을 업데이트\n",
        "    def train_model(self, state, action, reward, next_state, next_action, done):\n",
        "        if self.epsilon > self.epsilon_min:\n",
        "            self.epsilon *= self.epsilon_decay # epsilon 값을 줄여나감\n",
        "            '''\n",
        "            이유\n",
        "            초반에는 에이전트가 탐험을 통해 다양한 상황에 대해서 학습하고 학습이 이루어진 후에는 예측하는대로 에이전트가 움직이기 위해서\n",
        "            '''\n",
        "        # 학습 파라미터\n",
        "        state = torch.tensor(state, dtype=torch.float32)\n",
        "        next_state = torch.tensor(next_state, dtype=torch.float32)\n",
        "\n",
        "        predict = self.model(state) # 현재 상태에서의 예측 Q값\n",
        "        one_hot_action = F.one_hot(torch.tensor(action), num_classes=self.num_actions).float() # 실제로 한 행동에 해당하는 값만 추출하기 위해\n",
        "        pred = torch.sum(predict * one_hot_action) # 실제 행동에 대한 모델의 출력만 남겨놓을 수 있음\n",
        "\n",
        "        next_q = self.model(next_state)[next_action].item()\n",
        "        target = reward + (1 - done) * self.discount_factor * next_q\n",
        "\n",
        "        # MSE 오류함수 계산\n",
        "        mse = nn.MSELoss()\n",
        "        loss = mse(pred, torch.tensor(target))\n",
        "\n",
        "        # 오류함수를 줄이는 방향으로 모델 업데이트\n",
        "        self.optimizer.zero_grad()\n",
        "        loss.backward()\n",
        "        self.optimizer.step()"
      ],
      "metadata": {
        "id": "i2ARNXZPdQPT"
      },
      "execution_count": 33,
      "outputs": []
    },
    {
      "cell_type": "markdown",
      "source": [
        "# Main"
      ],
      "metadata": {
        "id": "7jW6ivs16zHO"
      }
    },
    {
      "cell_type": "markdown",
      "source": [
        "- **SARSA**를 이용해 그리드 월드 학습시키기  \n",
        "- 학습 지표 시각화"
      ],
      "metadata": {
        "id": "Kpj3a2xf7Pkz"
      }
    },
    {
      "cell_type": "code",
      "source": [
        "env = GridWorldEnvironment(start_point=(0,0),\n",
        "                           end_point=(4,4),\n",
        "                           gridworld_size=(5,5))\n",
        "agent = DeepSARSAgent(env.state_len, env.action_space)\n",
        "EPISODES = 1000\n",
        "RENDER_PROCESS = False # 학습 중 실시간 rendering\n",
        "RENDER_END = False # 에피소드 종료 후 상태 rendering\n",
        "total = []"
      ],
      "metadata": {
        "id": "bzJHw6KJ60wS"
      },
      "execution_count": 34,
      "outputs": []
    },
    {
      "cell_type": "code",
      "source": [
        "for episode in range(EPISODES):\n",
        "    # 게임 환경과 상태를 초기화\n",
        "    state = env.reset()\n",
        "    # 현재 상태에 대한 행동을 선택\n",
        "    action_idx = agent.get_action(state)\n",
        "    num = 0\n",
        "    done = False\n",
        "\n",
        "    while not done:\n",
        "        if RENDER_PROCESS:\n",
        "            env.render()\n",
        "\n",
        "        # 행동을 취한 후 다음 상태 보상 에피소드의 종료 여부를 받아옴\n",
        "        next_state, reward, done = env.step(action_idx)\n",
        "        # 다음 상태에서의 다음 행동을 선택\n",
        "        next_action_idx = agent.get_action(next_state)\n",
        "        agent.train_model(state, action_idx, reward, next_state, next_action_idx, done)\n",
        "\n",
        "        state = next_state\n",
        "        action_idx = next_action_idx\n",
        "        num += 1\n",
        "\n",
        "    total.append(num)\n",
        "    if (episode+1) % 100 == 0:\n",
        "        print(f\"[Episode]: {episode+1}/{EPISODES} | [mean]:{np.mean(total[episode-99:]):.1f} | [Epsilon]: {agent.epsilon:.3f}\")\n",
        "\n",
        "    if RENDER_END:\n",
        "        env.render()"
      ],
      "metadata": {
        "colab": {
          "base_uri": "https://localhost:8080/"
        },
        "id": "gCZ9HxbMqfeD",
        "outputId": "4d1c138f-251b-4449-80a8-79bb9229e6a4"
      },
      "execution_count": 35,
      "outputs": [
        {
          "output_type": "stream",
          "name": "stdout",
          "text": [
            "[Episode]: 100/1000 | [mean]:36.3 | [Epsilon]: 0.026\n",
            "[Episode]: 200/1000 | [mean]:8.9 | [Epsilon]: 0.011\n",
            "[Episode]: 300/1000 | [mean]:8.5 | [Epsilon]: 0.010\n",
            "[Episode]: 400/1000 | [mean]:11.6 | [Epsilon]: 0.010\n",
            "[Episode]: 500/1000 | [mean]:9.6 | [Epsilon]: 0.010\n",
            "[Episode]: 600/1000 | [mean]:9.7 | [Epsilon]: 0.010\n",
            "[Episode]: 700/1000 | [mean]:10.8 | [Epsilon]: 0.010\n",
            "[Episode]: 800/1000 | [mean]:11.2 | [Epsilon]: 0.010\n",
            "[Episode]: 900/1000 | [mean]:9.8 | [Epsilon]: 0.010\n",
            "[Episode]: 1000/1000 | [mean]:10.3 | [Epsilon]: 0.010\n"
          ]
        }
      ]
    },
    {
      "cell_type": "code",
      "source": [
        "import matplotlib.pyplot as plt\n",
        "plt.plot(total)"
      ],
      "metadata": {
        "colab": {
          "base_uri": "https://localhost:8080/",
          "height": 452
        },
        "id": "eIBnYtjJtP2E",
        "outputId": "dd4d1b6d-ee30-404f-8d12-b480522f2bf6"
      },
      "execution_count": 36,
      "outputs": [
        {
          "output_type": "execute_result",
          "data": {
            "text/plain": [
              "[<matplotlib.lines.Line2D at 0x7f7bd0bdd9c0>]"
            ]
          },
          "metadata": {},
          "execution_count": 36
        },
        {
          "output_type": "display_data",
          "data": {
            "text/plain": [
              "<Figure size 640x480 with 1 Axes>"
            ],
            "image/png": "[encoded data removed]"
          },
          "metadata": {}
        }
      ]
    },
    {
      "cell_type": "code",
      "source": [
        "# 최종 결과\n",
        "env.render()"
      ],
      "metadata": {
        "id": "1xdZt27L7Wvh",
        "colab": {
          "base_uri": "https://localhost:8080/"
        },
        "outputId": "72b18081-d6d7-4f79-ee81-07a848768d75"
      },
      "execution_count": 37,
      "outputs": [
        {
          "output_type": "stream",
          "name": "stdout",
          "text": [
            "S . . . . \n",
            "X . . . . \n",
            "X . . . . \n",
            "X . . . . \n",
            "X X X X A \n",
            "\n"
          ]
        }
      ]
    }
  ]
}