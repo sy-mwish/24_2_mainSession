{
 "cells": [
  {
   "cell_type": "markdown",
   "metadata": {
    "id": "s7yodASCqQnN"
   },
   "source": [
    "# Import : by GitHub"
   ]
  },
  {
   "cell_type": "markdown",
   "metadata": {
    "id": "sNKnwgyLsdk7"
   },
   "source": [
    "You can try this code in Colab by this method.  "
   ]
  },
  {
   "cell_type": "code",
   "execution_count": 1,
   "metadata": {
    "colab": {
     "base_uri": "https://localhost:8080/"
    },
    "executionInfo": {
     "elapsed": 723,
     "status": "ok",
     "timestamp": 1727074992288,
     "user": {
      "displayName": "Jimin Lee",
      "userId": "01372747766781604817"
     },
     "user_tz": -540
    },
    "id": "mZkIAl9RqbgA",
    "outputId": "59b23282-3415-4335-c371-d49e898d4fe5"
   },
   "outputs": [
    {
     "name": "stdout",
     "output_type": "stream",
     "text": [
      "Cloning into 'tic_tac_toe'...\n",
      "remote: Enumerating objects: 14, done.\u001b[K\n",
      "remote: Counting objects: 100% (14/14), done.\u001b[K\n",
      "remote: Compressing objects: 100% (11/11), done.\u001b[K\n",
      "remote: Total 14 (delta 0), reused 11 (delta 0), pack-reused 0 (from 0)\u001b[K\n",
      "Receiving objects: 100% (14/14), 7.73 KiB | 7.73 MiB/s, done.\n"
     ]
    }
   ],
   "source": [
    "!git clone https://github.com/Tonnonssi/tic_tac_toe.git"
   ]
  },
  {
   "cell_type": "code",
   "execution_count": 2,
   "metadata": {
    "executionInfo": {
     "elapsed": 482,
     "status": "ok",
     "timestamp": 1727075025146,
     "user": {
      "displayName": "Jimin Lee",
      "userId": "01372747766781604817"
     },
     "user_tz": -540
    },
    "id": "p9gcnuUSr6be"
   },
   "outputs": [],
   "source": [
    "import os\n",
    "os.chdir('/content/tic_tac_toe/code/minmax_alphabeta')"
   ]
  },
  {
   "cell_type": "code",
   "execution_count": 1,
   "metadata": {
    "executionInfo": {
     "elapsed": 2715,
     "status": "ok",
     "timestamp": 1727075028813,
     "user": {
      "displayName": "Jimin Lee",
      "userId": "01372747766781604817"
     },
     "user_tz": -540
    },
    "id": "yBP_YdvWsE3x"
   },
   "outputs": [],
   "source": [
    "! python environment.py\n",
    "! python state.py\n",
    "! python agent.py\n",
    "! python node.py"
   ]
  },
  {
   "cell_type": "code",
   "execution_count": 2,
   "metadata": {
    "executionInfo": {
     "elapsed": 637,
     "status": "ok",
     "timestamp": 1727075031725,
     "user": {
      "displayName": "Jimin Lee",
      "userId": "01372747766781604817"
     },
     "user_tz": -540
    },
    "id": "x3lvy6gWsE3x"
   },
   "outputs": [],
   "source": [
    "from environment import TicTacToeEnvironment\n",
    "from state import State\n",
    "from agent import Agent\n",
    "from node import Node"
   ]
  },
  {
   "cell_type": "markdown",
   "metadata": {
    "id": "JEebbHIRoLUr"
   },
   "source": [
    "# Main"
   ]
  },
  {
   "cell_type": "code",
   "execution_count": 5,
   "metadata": {
    "colab": {
     "base_uri": "https://localhost:8080/",
     "height": 1000
    },
    "executionInfo": {
     "elapsed": 1577,
     "status": "ok",
     "timestamp": 1727075035297,
     "user": {
      "displayName": "Jimin Lee",
      "userId": "01372747766781604817"
     },
     "user_tz": -540
    },
    "id": "jk-18MYkmktX",
    "outputId": "b34724cd-1621-4a51-8473-cadbe0392045"
   },
   "outputs": [
    {
     "name": "stdout",
     "output_type": "stream",
     "text": [
      "-----\n",
      "Action : 4\n",
      "State : [[[0. 0. 0.]\n",
      "  [0. 0. 0.]\n",
      "  [0. 0. 0.]]\n",
      "\n",
      " [[0. 0. 0.]\n",
      "  [0. 1. 0.]\n",
      "  [0. 0. 0.]]]\n",
      "\n",
      "-----\n",
      "Action : 5\n",
      "State : [[[0. 0. 0.]\n",
      "  [0. 1. 0.]\n",
      "  [0. 0. 0.]]\n",
      "\n",
      " [[0. 0. 0.]\n",
      "  [0. 0. 1.]\n",
      "  [0. 0. 0.]]]\n",
      "\n",
      "-----\n",
      "Action : 2\n",
      "State : [[[0. 0. 0.]\n",
      "  [0. 0. 1.]\n",
      "  [0. 0. 0.]]\n",
      "\n",
      " [[0. 0. 1.]\n",
      "  [0. 1. 0.]\n",
      "  [0. 0. 0.]]]\n",
      "\n",
      "-----\n",
      "Action : 1\n",
      "State : [[[0. 0. 1.]\n",
      "  [0. 1. 0.]\n",
      "  [0. 0. 0.]]\n",
      "\n",
      " [[0. 1. 0.]\n",
      "  [0. 0. 1.]\n",
      "  [0. 0. 0.]]]\n",
      "\n",
      "-----\n",
      "Action : 6\n",
      "State : [[[0. 1. 0.]\n",
      "  [0. 0. 1.]\n",
      "  [0. 0. 0.]]\n",
      "\n",
      " [[0. 0. 1.]\n",
      "  [0. 1. 0.]\n",
      "  [1. 0. 0.]]]\n",
      "\n"
     ]
    }
   ],
   "source": [
    "env = TicTacToeEnvironment()\n",
    "state = State()\n",
    "agent_1 = Agent(env=env)\n",
    "agent_2 = Agent(env=env)\n",
    "\n",
    "# ---------\n",
    "# main\n",
    "# ---------\n",
    "\n",
    "\n",
    "while True:\n",
    "    if state.is_done():\n",
    "        break\n",
    "\n",
    "    if state.is_first_player():\n",
    "        action = agent_1.mcts_action(state)\n",
    "\n",
    "    else:\n",
    "        action = agent_2.random_available_action(state)\n",
    "\n",
    "    state = state.next(action)\n",
    "\n",
    "    print('-----')\n",
    "    print(f\"Action : {action}\")\n",
    "    print(f\"State : {state.board}\")\n",
    "#     env.render(state)\n",
    "    print()"
   ]
  }
 ],
 "metadata": {
  "colab": {
   "authorship_tag": "ABX9TyN/Wpc/hW05h4m/Meu+ydqK",
   "provenance": []
  },
  "kernelspec": {
   "display_name": "Python 3 (ipykernel)",
   "language": "python",
   "name": "python3"
  },
  "language_info": {
   "codemirror_mode": {
    "name": "ipython",
    "version": 3
   },
   "file_extension": ".py",
   "mimetype": "text/x-python",
   "name": "python",
   "nbconvert_exporter": "python",
   "pygments_lexer": "ipython3",
   "version": "3.9.7"
  }
 },
 "nbformat": 4,
 "nbformat_minor": 1
}
